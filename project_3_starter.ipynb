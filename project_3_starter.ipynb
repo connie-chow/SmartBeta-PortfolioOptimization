{
 "cells": [
  {
   "cell_type": "markdown",
   "metadata": {},
   "source": [
    "# Project 3: Smart Beta Portfolio and Portfolio Optimization\n",
    "\n",
    "## Overview\n",
    "\n",
    "\n",
    "Smart beta has a broad meaning, but we can say in practice that when we use the universe of stocks from an index, and then apply some weighting scheme other than market cap weighting, it can be considered a type of smart beta fund.  A Smart Beta portfolio generally gives investors exposure or \"beta\" to one or more types of market characteristics (or factors) that are believed to predict prices while giving investors a diversified broad exposure to a particular market. Smart Beta portfolios generally target momentum, earnings quality, low volatility, and dividends or some combination. Smart Beta Portfolios are generally rebalanced infrequently and follow relatively simple rules or algorithms that are passively managed.  Model changes to these types of funds are also rare requiring prospectus filings with US Security and Exchange Commission in the case of US focused mutual funds or ETFs.. Smart Beta portfolios are generally long-only, they do not short stocks.\n",
    "\n",
    "In contrast, a purely alpha-focused quantitative fund may use multiple models or algorithms to create a portfolio. The portfolio manager retains discretion in upgrading or changing the types of models and how often to rebalance the portfolio in attempt to maximize performance in comparison to a stock benchmark.  Managers may have discretion to short stocks in portfolios.\n",
    "\n",
    "Imagine you're a portfolio manager, and wish to try out some different portfolio weighting methods.\n",
    "\n",
    "One way to design portfolio is to look at certain accounting measures (fundamentals) that, based on past trends, indicate stocks that produce better results.  \n",
    "\n",
    "\n",
    "For instance, you may start with a hypothesis that dividend-issuing stocks tend to perform better than stocks that do not. This may not always be true of all companies; for instance, Apple does not issue dividends, but has had good historical performance.  The hypothesis about dividend-paying stocks may go something like this: \n",
    "\n",
    "Companies that regularly issue dividends may also be more prudent in allocating their available cash, and may indicate that they are more conscious of prioritizing shareholder interests.  For example, a CEO may decide to reinvest cash into pet projects that produce low returns.  Or, the CEO may do some analysis, identify that reinvesting within the company produces lower returns compared to a diversified portfolio, and so decide that shareholders would be better served if they were given the cash (in the form of dividends).  So according to this hypothesis, dividends may be both a proxy for how the company is doing (in terms of earnings and cash flow), but also a signal that the company acts in the best interest of its shareholders.  Of course, it's important to test whether this works in practice.\n",
    "\n",
    "\n",
    "You may also have another hypothesis, with which you wish to design a portfolio that can then be made into an ETF.  You may find that investors may wish to invest in passive beta funds, but wish to have less risk exposure (less volatility) in their investments.  The goal of having a low volatility fund that still produces returns similar to an index may be appealing to investors who have a shorter investment time horizon, and so are more risk averse.\n",
    "\n",
    "So the objective of your proposed portfolio is to design a portfolio that closely tracks an index, while also minimizing the portfolio variance.  Also, if this portfolio can match the returns of the index with less volatility, then it has a higher risk-adjusted return (same return, lower volatility).\n",
    "\n",
    "Smart Beta ETFs can be designed with both of these two general methods (among others): alternative weighting and minimum volatility ETF.\n",
    "\n",
    "\n",
    "## Instructions\n",
    "Each problem consists of a function to implement and instructions on how to implement the function.  The parts of the function that need to be implemented are marked with a `# TODO` comment. After implementing the function, run the cell to test it against the unit tests we've provided. For each problem, we provide one or more unit tests from our `project_tests` package. These unit tests won't tell you if your answer is correct, but will warn you of any major errors. Your code will be checked for the correct solution when you submit it to Udacity.\n",
    "\n",
    "## Packages\n",
    "When you implement the functions, you'll only need to you use the packages you've used in the classroom, like [Pandas](https://pandas.pydata.org/) and [Numpy](http://www.numpy.org/). These packages will be imported for you. We recommend you don't add any import statements, otherwise the grader might not be able to run your code.\n",
    "\n",
    "The other packages that we're importing are `helper`, `project_helper`, and `project_tests`. These are custom packages built to help you solve the problems.  The `helper` and `project_helper` module contains utility functions and graph functions. The `project_tests` contains the unit tests for all the problems.\n",
    "### Install Packages"
   ]
  },
  {
   "cell_type": "code",
   "execution_count": null,
   "metadata": {},
   "outputs": [
    {
     "name": "stdout",
     "output_type": "stream",
     "text": [
      "Requirement already satisfied: colour==0.1.5 in /opt/conda/lib/python3.6/site-packages (from -r requirements.txt (line 1)) (0.1.5)\n",
      "Collecting cvxpy==1.0.3 (from -r requirements.txt (line 2))\n",
      "\u001b[?25l  Downloading https://files.pythonhosted.org/packages/a1/59/2613468ffbbe3a818934d06b81b9f4877fe054afbf4f99d2f43f398a0b34/cvxpy-1.0.3.tar.gz (880kB)\n",
      "\u001b[K    100% |████████████████████████████████| 880kB 15.7MB/s ta 0:00:01\n",
      "\u001b[?25hRequirement already satisfied: cycler==0.10.0 in /opt/conda/lib/python3.6/site-packages/cycler-0.10.0-py3.6.egg (from -r requirements.txt (line 3)) (0.10.0)\n",
      "Collecting numpy==1.14.5 (from -r requirements.txt (line 4))\n",
      "\u001b[?25l  Downloading https://files.pythonhosted.org/packages/68/1e/116ad560de97694e2d0c1843a7a0075cc9f49e922454d32f49a80eb6f1f2/numpy-1.14.5-cp36-cp36m-manylinux1_x86_64.whl (12.2MB)\n",
      "\u001b[K    100% |████████████████████████████████| 12.2MB 1.9MB/s eta 0:00:01  2% |█                               | 337kB 27.4MB/s eta 0:00:01    25% |████████                        | 3.1MB 31.7MB/s eta 0:00:01    47% |███████████████▏                | 5.8MB 31.6MB/s eta 0:00:01    69% |██████████████████████▏         | 8.4MB 24.7MB/s eta 0:00:01    79% |█████████████████████████▌      | 9.7MB 28.2MB/s eta 0:00:01\n",
      "\u001b[?25hCollecting pandas==0.21.1 (from -r requirements.txt (line 5))\n",
      "\u001b[?25l  Downloading https://files.pythonhosted.org/packages/3a/e1/6c514df670b887c77838ab856f57783c07e8760f2e3d5939203a39735e0e/pandas-0.21.1-cp36-cp36m-manylinux1_x86_64.whl (26.2MB)\n",
      "\u001b[K    100% |████████████████████████████████| 26.2MB 952kB/s eta 0:00:01  8% |██▊                             | 2.3MB 24.4MB/s eta 0:00:01    13% |████▍                           | 3.6MB 33.5MB/s eta 0:00:01    24% |███████▊                        | 6.3MB 25.0MB/s eta 0:00:01    29% |█████████▎                      | 7.6MB 25.4MB/s eta 0:00:01    34% |███████████                     | 8.9MB 27.6MB/s eta 0:00:01    58% |██████████████████▊             | 15.4MB 28.1MB/s eta 0:00:01    75% |████████████████████████        | 19.7MB 24.2MB/s eta 0:00:01    88% |████████████████████████████▏   | 23.1MB 21.8MB/s eta 0:00:01    96% |██████████████████████████████▊ | 25.2MB 24.2MB/s eta 0:00:01\n",
      "\u001b[?25hCollecting plotly==2.2.3 (from -r requirements.txt (line 6))\n",
      "\u001b[?25l  Downloading https://files.pythonhosted.org/packages/99/a6/8214b6564bf4ace9bec8a26e7f89832792be582c042c47c912d3201328a0/plotly-2.2.3.tar.gz (1.1MB)\n",
      "\u001b[K    100% |████████████████████████████████| 1.1MB 8.7MB/s eta 0:00:01\n",
      "\u001b[?25hRequirement already satisfied: pyparsing==2.2.0 in /opt/conda/lib/python3.6/site-packages (from -r requirements.txt (line 7)) (2.2.0)\n",
      "Requirement already satisfied: python-dateutil==2.6.1 in /opt/conda/lib/python3.6/site-packages (from -r requirements.txt (line 8)) (2.6.1)\n",
      "Requirement already satisfied: pytz==2017.3 in /opt/conda/lib/python3.6/site-packages (from -r requirements.txt (line 9)) (2017.3)\n",
      "Requirement already satisfied: requests==2.18.4 in /opt/conda/lib/python3.6/site-packages (from -r requirements.txt (line 10)) (2.18.4)\n",
      "Collecting scipy==1.0.0 (from -r requirements.txt (line 11))\n",
      "\u001b[?25l  Downloading https://files.pythonhosted.org/packages/d8/5e/caa01ba7be11600b6a9d39265440d7b3be3d69206da887c42bef049521f2/scipy-1.0.0-cp36-cp36m-manylinux1_x86_64.whl (50.0MB)\n",
      "\u001b[K    100% |████████████████████████████████| 50.0MB 542kB/s eta 0:00:01  1% |▋                               | 890kB 24.3MB/s eta 0:00:03    6% |██                              | 3.2MB 24.0MB/s eta 0:00:02    8% |██▊                             | 4.3MB 20.7MB/s eta 0:00:03    10% |███▌                            | 5.5MB 23.7MB/s eta 0:00:02    13% |████▏                           | 6.6MB 22.7MB/s eta 0:00:02    17% |█████▊                          | 8.9MB 23.0MB/s eta 0:00:02    26% |████████▋                       | 13.5MB 22.7MB/s eta 0:00:02    28% |█████████▎                      | 14.4MB 20.4MB/s eta 0:00:02    35% |███████████▍                    | 17.8MB 24.7MB/s eta 0:00:02    37% |████████████                    | 18.7MB 21.4MB/s eta 0:00:02    43% |██████████████                  | 21.7MB 19.7MB/s eta 0:00:02    47% |███████████████▏                | 23.7MB 20.4MB/s eta 0:00:02    51% |████████████████▍               | 25.7MB 17.6MB/s eta 0:00:02    53% |█████████████████▏              | 26.8MB 24.4MB/s eta 0:00:01    55% |█████████████████▉              | 27.9MB 22.3MB/s eta 0:00:01    57% |██████████████████▌             | 28.8MB 20.3MB/s eta 0:00:02    59% |███████████████████             | 29.8MB 23.2MB/s eta 0:00:01    61% |███████████████████▊            | 30.8MB 21.8MB/s eta 0:00:01    63% |████████████████████▍           | 31.8MB 23.4MB/s eta 0:00:01    65% |█████████████████████           | 32.8MB 30.6MB/s eta 0:00:01    67% |█████████████████████▋          | 33.9MB 20.5MB/s eta 0:00:01    75% |████████████████████████▏       | 37.7MB 22.3MB/s eta 0:00:01    77% |████████████████████████▉       | 38.8MB 20.6MB/s eta 0:00:01    79% |█████████████████████████▎      | 39.5MB 19.5MB/s eta 0:00:01    80% |██████████████████████████      | 40.5MB 21.3MB/s eta 0:00:01    83% |██████████████████████████▋     | 41.5MB 20.5MB/s eta 0:00:01    85% |███████████████████████████▏    | 42.6MB 25.8MB/s eta 0:00:01    88% |████████████████████████████▌   | 44.5MB 23.0MB/s eta 0:00:01    94% |██████████████████████████████▍ | 47.5MB 26.0MB/s eta 0:00:01    97% |███████████████████████████████▏| 48.7MB 24.4MB/s eta 0:00:01\n",
      "\u001b[?25hRequirement already satisfied: scikit-learn==0.19.1 in /opt/conda/lib/python3.6/site-packages (from -r requirements.txt (line 12)) (0.19.1)\n",
      "Requirement already satisfied: six==1.11.0 in /opt/conda/lib/python3.6/site-packages (from -r requirements.txt (line 13)) (1.11.0)\n",
      "Collecting tqdm==4.19.5 (from -r requirements.txt (line 14))\n",
      "\u001b[?25l  Downloading https://files.pythonhosted.org/packages/71/3c/341b4fa23cb3abc335207dba057c790f3bb329f6757e1fcd5d347bcf8308/tqdm-4.19.5-py2.py3-none-any.whl (51kB)\n",
      "\u001b[K    100% |████████████████████████████████| 61kB 7.6MB/s ta 0:00:01\n",
      "\u001b[?25hCollecting osqp (from cvxpy==1.0.3->-r requirements.txt (line 2))\n",
      "\u001b[?25l  Downloading https://files.pythonhosted.org/packages/6c/59/2b80e881be227eecef3f2b257339d182167b55d22a1315ff4303ddcfd42f/osqp-0.6.1-cp36-cp36m-manylinux1_x86_64.whl (208kB)\n",
      "\u001b[K    100% |████████████████████████████████| 215kB 14.1MB/s ta 0:00:01\n",
      "\u001b[?25hCollecting ecos>=2 (from cvxpy==1.0.3->-r requirements.txt (line 2))\n",
      "\u001b[?25l  Downloading https://files.pythonhosted.org/packages/55/ed/d131ff51f3a8f73420eb1191345eb49f269f23cadef515172e356018cde3/ecos-2.0.7.post1-cp36-cp36m-manylinux1_x86_64.whl (147kB)\n",
      "\u001b[K    100% |████████████████████████████████| 153kB 14.5MB/s ta 0:00:01\n",
      "\u001b[?25hCollecting scs>=1.1.3 (from cvxpy==1.0.3->-r requirements.txt (line 2))\n",
      "\u001b[?25l  Downloading https://files.pythonhosted.org/packages/f2/6e/dbdd778c64c1920ae357a2013ea655d65a1f8b60f397d6e5549e4aafe8ec/scs-2.1.1-2.tar.gz (157kB)\n",
      "\u001b[K    100% |████████████████████████████████| 163kB 19.2MB/s ta 0:00:01\n",
      "\u001b[?25hCollecting multiprocess (from cvxpy==1.0.3->-r requirements.txt (line 2))\n",
      "\u001b[?25l  Downloading https://files.pythonhosted.org/packages/58/17/5151b6ac2ac9b6276d46c33369ff814b0901872b2a0871771252f02e9192/multiprocess-0.70.9.tar.gz (1.6MB)\n",
      "\u001b[K    100% |████████████████████████████████| 1.6MB 10.2MB/s ta 0:00:01    87% |███████████████████████████▉    | 1.4MB 22.3MB/s eta 0:00:01\n",
      "\u001b[?25hRequirement already satisfied: fastcache in /opt/conda/lib/python3.6/site-packages (from cvxpy==1.0.3->-r requirements.txt (line 2)) (1.0.2)\n",
      "Requirement already satisfied: toolz in /opt/conda/lib/python3.6/site-packages (from cvxpy==1.0.3->-r requirements.txt (line 2)) (0.8.2)\n",
      "Requirement already satisfied: decorator>=4.0.6 in /opt/conda/lib/python3.6/site-packages (from plotly==2.2.3->-r requirements.txt (line 6)) (4.0.11)\n",
      "Requirement already satisfied: nbformat>=4.2 in /opt/conda/lib/python3.6/site-packages (from plotly==2.2.3->-r requirements.txt (line 6)) (4.4.0)\n",
      "Requirement already satisfied: chardet<3.1.0,>=3.0.2 in /opt/conda/lib/python3.6/site-packages (from requests==2.18.4->-r requirements.txt (line 10)) (3.0.4)\n",
      "Requirement already satisfied: idna<2.7,>=2.5 in /opt/conda/lib/python3.6/site-packages (from requests==2.18.4->-r requirements.txt (line 10)) (2.6)\n",
      "Requirement already satisfied: urllib3<1.23,>=1.21.1 in /opt/conda/lib/python3.6/site-packages (from requests==2.18.4->-r requirements.txt (line 10)) (1.22)\n",
      "Requirement already satisfied: certifi>=2017.4.17 in /opt/conda/lib/python3.6/site-packages (from requests==2.18.4->-r requirements.txt (line 10)) (2019.6.16)\n",
      "Requirement already satisfied: future in /opt/conda/lib/python3.6/site-packages (from osqp->cvxpy==1.0.3->-r requirements.txt (line 2)) (0.16.0)\n",
      "Collecting dill>=0.3.1 (from multiprocess->cvxpy==1.0.3->-r requirements.txt (line 2))\n"
     ]
    },
    {
     "name": "stdout",
     "output_type": "stream",
     "text": [
      "\u001b[?25l  Downloading https://files.pythonhosted.org/packages/c7/11/345f3173809cea7f1a193bfbf02403fff250a3360e0e118a1630985e547d/dill-0.3.1.1.tar.gz (151kB)\n",
      "\u001b[K    100% |████████████████████████████████| 153kB 10.1MB/s ta 0:00:01\n",
      "\u001b[?25hRequirement already satisfied: traitlets>=4.1 in /opt/conda/lib/python3.6/site-packages (from nbformat>=4.2->plotly==2.2.3->-r requirements.txt (line 6)) (4.3.2)\n",
      "Requirement already satisfied: ipython-genutils in /opt/conda/lib/python3.6/site-packages (from nbformat>=4.2->plotly==2.2.3->-r requirements.txt (line 6)) (0.2.0)\n",
      "Requirement already satisfied: jsonschema!=2.5.0,>=2.4 in /opt/conda/lib/python3.6/site-packages (from nbformat>=4.2->plotly==2.2.3->-r requirements.txt (line 6)) (2.6.0)\n",
      "Requirement already satisfied: jupyter-core in /opt/conda/lib/python3.6/site-packages (from nbformat>=4.2->plotly==2.2.3->-r requirements.txt (line 6)) (4.4.0)\n",
      "Building wheels for collected packages: cvxpy, plotly, scs, multiprocess, dill\n",
      "  Running setup.py bdist_wheel for cvxpy ... \u001b[?25ldone\n",
      "\u001b[?25h  Stored in directory: /root/.cache/pip/wheels/2b/60/0b/0c2596528665e21d698d6f84a3406c52044c7b4ca6ac737cf3\n",
      "  Running setup.py bdist_wheel for plotly ... \u001b[?25ldone\n",
      "\u001b[?25h  Stored in directory: /root/.cache/pip/wheels/98/54/81/dd92d5b0858fac680cd7bdb8800eb26c001dd9f5dc8b1bc0ba\n",
      "  Running setup.py bdist_wheel for scs ... \u001b[?25l-"
     ]
    }
   ],
   "source": [
    "import sys\n",
    "!{sys.executable} -m pip install -r requirements.txt"
   ]
  },
  {
   "cell_type": "markdown",
   "metadata": {},
   "source": [
    "### Load Packages"
   ]
  },
  {
   "cell_type": "code",
   "execution_count": null,
   "metadata": {},
   "outputs": [],
   "source": [
    "import pandas as pd\n",
    "import numpy as np\n",
    "import helper\n",
    "import project_helper\n",
    "import project_tests"
   ]
  },
  {
   "cell_type": "markdown",
   "metadata": {},
   "source": [
    "## Market Data\n",
    "### Load Data\n",
    "For this universe of stocks, we'll be selecting large dollar volume stocks. We're using this universe, since it is highly liquid."
   ]
  },
  {
   "cell_type": "code",
   "execution_count": null,
   "metadata": {},
   "outputs": [],
   "source": [
    "df = pd.read_csv('../../data/project_3/eod-quotemedia.csv')\n",
    "\n",
    "percent_top_dollar = 0.2\n",
    "high_volume_symbols = project_helper.large_dollar_volume_stocks(df, 'adj_close', 'adj_volume', percent_top_dollar)\n",
    "df = df[df['ticker'].isin(high_volume_symbols)]\n",
    "\n",
    "close = df.reset_index().pivot(index='date', columns='ticker', values='adj_close')\n",
    "volume = df.reset_index().pivot(index='date', columns='ticker', values='adj_volume')\n",
    "dividends = df.reset_index().pivot(index='date', columns='ticker', values='dividends')"
   ]
  },
  {
   "cell_type": "markdown",
   "metadata": {},
   "source": [
    "### View Data\n",
    "To see what one of these 2-d matrices looks like, let's take a look at the closing prices matrix."
   ]
  },
  {
   "cell_type": "code",
   "execution_count": null,
   "metadata": {},
   "outputs": [],
   "source": [
    "project_helper.print_dataframe(close)"
   ]
  },
  {
   "cell_type": "markdown",
   "metadata": {},
   "source": [
    "# Part 1: Smart Beta Portfolio\n",
    "In Part 1 of this project, you'll build a portfolio using dividend yield to choose the portfolio weights. A portfolio such as this could be incorporated into a smart beta ETF.  You'll compare this portfolio to a market cap weighted index to see how well it performs. \n",
    "\n",
    "Note that in practice, you'll probably get the index weights from a data vendor (such as companies that create indices, like MSCI, FTSE, Standard and Poor's), but for this exercise we will simulate a market cap weighted index.\n",
    "\n",
    "## Index Weights\n",
    "The index we'll be using is based on large dollar volume stocks. Implement `generate_dollar_volume_weights` to generate the weights for this index. For each date, generate the weights based on dollar volume traded for that date. For example, assume the following is close prices and volume data:\n",
    "```\n",
    "                 Prices\n",
    "               A         B         ...\n",
    "2013-07-08     2         2         ...\n",
    "2013-07-09     5         6         ...\n",
    "2013-07-10     1         2         ...\n",
    "2013-07-11     6         5         ...\n",
    "...            ...       ...       ...\n",
    "\n",
    "                 Volume\n",
    "               A         B         ...\n",
    "2013-07-08     100       340       ...\n",
    "2013-07-09     240       220       ...\n",
    "2013-07-10     120       500       ...\n",
    "2013-07-11     10        100       ...\n",
    "...            ...       ...       ...\n",
    "```\n",
    "The weights created from the function `generate_dollar_volume_weights` should be the following:\n",
    "```\n",
    "               A         B         ...\n",
    "2013-07-08     0.126..   0.194..   ...\n",
    "2013-07-09     0.759..   0.377..   ...\n",
    "2013-07-10     0.075..   0.285..   ...\n",
    "2013-07-11     0.037..   0.142..   ...\n",
    "...            ...       ...       ...\n",
    "```"
   ]
  },
  {
   "cell_type": "code",
   "execution_count": null,
   "metadata": {},
   "outputs": [],
   "source": [
    "def generate_dollar_volume_weights(close, volume):\n",
    "    \"\"\"\n",
    "    Generate dollar volume weights.\n",
    "\n",
    "    Parameters\n",
    "    ----------\n",
    "    close : DataFrame\n",
    "        Close price for each ticker and date\n",
    "    volume : str\n",
    "        Volume for each ticker and date\n",
    "\n",
    "    Returns\n",
    "    -------\n",
    "    dollar_volume_weights : DataFrame\n",
    "        The dollar volume weights for each ticker and date\n",
    "    \"\"\"\n",
    "    assert close.index.equals(volume.index)\n",
    "    assert close.columns.equals(volume.columns)\n",
    "    \n",
    "    #TODO: Implement function\n",
    "    \n",
    "    print(close)\n",
    "    print(volume)\n",
    "    \n",
    "    # volume weighted average price = sum of price * volume / sum of volume\n",
    "    weighted_price_volume = (close * volume)\n",
    "    print(weighted_price_volume)\n",
    "    sum_volume = weighted_price_volume.sum(axis=1)\n",
    "    print(sum_volume)\n",
    "    \n",
    "    dollar_volume_weights = weighted_price_volume.divide(sum_volume, axis='index')\n",
    "    print(dollar_volume_weights)\n",
    "    return dollar_volume_weights\n",
    "\n",
    "project_tests.test_generate_dollar_volume_weights(generate_dollar_volume_weights)"
   ]
  },
  {
   "cell_type": "markdown",
   "metadata": {},
   "source": [
    "### View Data\n",
    "Let's generate the index weights using `generate_dollar_volume_weights` and view them using a heatmap."
   ]
  },
  {
   "cell_type": "code",
   "execution_count": null,
   "metadata": {},
   "outputs": [],
   "source": [
    "index_weights = generate_dollar_volume_weights(close, volume)\n",
    "project_helper.plot_weights(index_weights, 'Index Weights')"
   ]
  },
  {
   "cell_type": "markdown",
   "metadata": {},
   "source": [
    "## Portfolio Weights\n",
    "Now that we have the index weights, let's choose the portfolio weights based on dividend. You would normally calculate the weights based on trailing dividend yield, but we'll simplify this by just calculating the total dividend yield over time.\n",
    "\n",
    "Implement `calculate_dividend_weights` to return the weights for each stock based on its total dividend yield over time. This is similar to generating the weight for the index, but it's using dividend data instead.\n",
    "For example, assume the following is `dividends` data:\n",
    "```\n",
    "                 Prices\n",
    "               A         B\n",
    "2013-07-08     0         0\n",
    "2013-07-09     0         1\n",
    "2013-07-10     0.5       0\n",
    "2013-07-11     0         0\n",
    "2013-07-12     2         0\n",
    "...            ...       ...\n",
    "```\n",
    "The weights created from the function `calculate_dividend_weights` should be the following:\n",
    "```\n",
    "               A         B\n",
    "2013-07-08     NaN       NaN\n",
    "2013-07-09     0         1\n",
    "2013-07-10     0.333..   0.666..\n",
    "2013-07-11     0.333..   0.666..\n",
    "2013-07-12     0.714..   0.285..\n",
    "...            ...       ...\n",
    "```"
   ]
  },
  {
   "cell_type": "code",
   "execution_count": null,
   "metadata": {},
   "outputs": [],
   "source": [
    "def calculate_dividend_weights(dividends):\n",
    "    \"\"\"\n",
    "    Calculate dividend weights.\n",
    "\n",
    "    Parameters\n",
    "    ----------\n",
    "    dividends : DataFrame\n",
    "        Dividend for each stock and date\n",
    "\n",
    "    Returns\n",
    "    -------\n",
    "    dividend_weights : DataFrame\n",
    "        Weights for each stock and date\n",
    "    \"\"\"\n",
    "    #TODO: Implement function\n",
    " \n",
    "    print('dividends are \\n', dividends, '\\n')\n",
    "\n",
    "\n",
    "    # First calculate the cum_dividend_yields for each date/ticker by using cumsum()\n",
    "    # This is going by column. So, everything that appears in the column before \n",
    "    # INCLUDING the current row is cumsum'd\n",
    "\n",
    "    cumulative_dividend_yields = np.cumsum(dividends, axis=0)\n",
    "    print('cumulative dividends \\n', cumulative_dividend_yields, '\\n')\n",
    "\n",
    "    # Then create a sum for each row. This is a series.\n",
    "    row_totals = cumulative_dividend_yields.sum(axis=1)\n",
    "    print('row totals \\n', row_totals, '\\n')\n",
    "\n",
    "\n",
    "    # For EVERY element in the FIRST row of the cumulative_dividend_yields divide it by the \n",
    "    # FIRST element in the row_totals series.\n",
    "    # For EVERY element in the SECOND row of the cumulative_dividend_yields divide it by the \n",
    "    # SECOND element in the row_totals series.\n",
    "    # For EVERY element in the THIRD row of the cumulative_dividend_yields divide it by the \n",
    "    # THIRD element in the row_totals series.\n",
    "    # AND SO ON\n",
    "    # This yields the weighted average of the dividends for the entire input dataframe.\n",
    "    weights = cumulative_dividend_yields.div(row_totals, axis=0)\n",
    "    return weights\n",
    "\n",
    "\n",
    "project_tests.test_calculate_dividend_weights(calculate_dividend_weights)"
   ]
  },
  {
   "cell_type": "markdown",
   "metadata": {},
   "source": [
    "### View Data\n",
    "Just like the index weights, let's generate the ETF weights and view them using a heatmap."
   ]
  },
  {
   "cell_type": "code",
   "execution_count": null,
   "metadata": {},
   "outputs": [],
   "source": [
    "etf_weights = calculate_dividend_weights(dividends)\n",
    "project_helper.plot_weights(etf_weights, 'ETF Weights')"
   ]
  },
  {
   "cell_type": "markdown",
   "metadata": {},
   "source": [
    "## Returns\n",
    "Implement `generate_returns` to generate returns data for all the stocks and dates from price data. You might notice we're implementing returns and not log returns. Since we're not dealing with volatility, we don't have to use log returns."
   ]
  },
  {
   "cell_type": "code",
   "execution_count": null,
   "metadata": {},
   "outputs": [],
   "source": [
    "def generate_returns(prices):\n",
    "    \"\"\"\n",
    "    Generate returns for ticker and date.\n",
    "\n",
    "    Parameters\n",
    "    ----------\n",
    "    prices : DataFrame\n",
    "        Price for each ticker and date\n",
    "\n",
    "    Returns\n",
    "    -------\n",
    "    returns : Dataframe\n",
    "        The returns for each ticker and date\n",
    "    \"\"\"\n",
    "    #TODO: Implement function\n",
    "    #Return = (P(t) - P(t-1)) / P(t-1)\n",
    "    \n",
    "    return_prices = prices - prices.shift(1)\n",
    "    return return_prices.div(prices.shift(1))\n",
    "\n",
    "project_tests.test_generate_returns(generate_returns)"
   ]
  },
  {
   "cell_type": "markdown",
   "metadata": {},
   "source": [
    "### View Data\n",
    "Let's generate the closing returns using `generate_returns` and view them using a heatmap."
   ]
  },
  {
   "cell_type": "code",
   "execution_count": null,
   "metadata": {},
   "outputs": [],
   "source": [
    "returns = generate_returns(close)\n",
    "project_helper.plot_returns(returns, 'Close Returns')"
   ]
  },
  {
   "cell_type": "markdown",
   "metadata": {},
   "source": [
    "## Weighted Returns\n",
    "With the returns of each stock computed, we can use it to compute the returns for an index or ETF. Implement `generate_weighted_returns` to create weighted returns using the returns and weights."
   ]
  },
  {
   "cell_type": "code",
   "execution_count": null,
   "metadata": {},
   "outputs": [],
   "source": [
    "def generate_weighted_returns(returns, weights):\n",
    "    \"\"\"\n",
    "    Generate weighted returns.\n",
    "\n",
    "    Parameters\n",
    "    ----------\n",
    "    returns : DataFrame\n",
    "        Returns for each ticker and date\n",
    "    weights : DataFrame\n",
    "        Weights for each ticker and date\n",
    "\n",
    "    Returns\n",
    "    -------\n",
    "    weighted_returns : DataFrame\n",
    "        Weighted returns for each ticker and date\n",
    "    \"\"\"\n",
    "    assert returns.index.equals(weights.index)\n",
    "    assert returns.columns.equals(weights.columns)\n",
    "    \n",
    "    #TODO: Implement function\n",
    "    \n",
    "    print('returns ', returns, '\\n')\n",
    "    print('weights', weights, '\\n')\n",
    "    \n",
    "\n",
    "    return returns * weights\n",
    "\n",
    "project_tests.test_generate_weighted_returns(generate_weighted_returns)"
   ]
  },
  {
   "cell_type": "markdown",
   "metadata": {},
   "source": [
    "### View Data\n",
    "Let's generate the ETF and index returns using `generate_weighted_returns` and view them using a heatmap."
   ]
  },
  {
   "cell_type": "code",
   "execution_count": null,
   "metadata": {},
   "outputs": [],
   "source": [
    "index_weighted_returns = generate_weighted_returns(returns, index_weights)\n",
    "etf_weighted_returns = generate_weighted_returns(returns, etf_weights)\n",
    "project_helper.plot_returns(index_weighted_returns, 'Index Returns')\n",
    "project_helper.plot_returns(etf_weighted_returns, 'ETF Returns')"
   ]
  },
  {
   "cell_type": "markdown",
   "metadata": {},
   "source": [
    "## Cumulative Returns\n",
    "To compare performance between the ETF and Index, we're going to calculate the tracking error. Before we do that, we first need to calculate the index and ETF comulative returns. Implement `calculate_cumulative_returns` to calculate the cumulative returns over time given the returns."
   ]
  },
  {
   "cell_type": "code",
   "execution_count": null,
   "metadata": {},
   "outputs": [],
   "source": [
    "def calculate_cumulative_returns(returns):\n",
    "    \"\"\"\n",
    "    Calculate cumulative returns.\n",
    "\n",
    "    Parameters\n",
    "    ----------\n",
    "    returns : DataFrame\n",
    "        Returns for each ticker and date\n",
    "\n",
    "    Returns\n",
    "    -------\n",
    "    cumulative_returns : Pandas Series\n",
    "        Cumulative returns for each date\n",
    "    \"\"\"\n",
    "    #TODO: Implement function\n",
    "    #cum_returns_final = pd.Series()\n",
    "    #returns = returns.fillna(0)\n",
    "    #sum = returns.cumsum().tail(1).values[0]\n",
    "    #print('returns\\n', returns, '\\n')\n",
    "    #print('returns\\n', sum, '\\n')\n",
    "    \n",
    "    #cumulative_returns = pd.Series(sum)\n",
    "    #cumulative_returns = pd.Series(1,2,3,4)\n",
    "    \n",
    "    #https://www.youtube.com/watch?v=LrWrhNLmu18&t=965s\n",
    "    \n",
    "    #import pdb; pdb.set_trace()\n",
    "    #cumulative_returns = (returns + 1).cumprod()[len(returns)-1] - 1\n",
    "    # cumsum(axis=1) is cumulative sum of values in each row so:\n",
    "    # a = np.array [[1,2,3],[4,5,6]]\n",
    "    # np.cumsum(a, axis=1) = [[1,3,6], [4,9,16]]\n",
    "    returns_daily = returns.cumsum(axis = 1)\n",
    "    \n",
    "    # take returns and select entire axis (slice) and the last column\n",
    "    # so selects right most column which contains the cumulative sum of the row\n",
    "    returns_sum = returns_daily.iloc[:,-1]\n",
    "    \n",
    "    # take cumulative product of the sums, we add one for the principal amount\n",
    "    cumulative_returns = (returns_sum + 1).cumprod()\n",
    "    \n",
    "    return cumulative_returns\n",
    "\n",
    "\n",
    "project_tests.test_calculate_cumulative_returns(calculate_cumulative_returns)"
   ]
  },
  {
   "cell_type": "markdown",
   "metadata": {},
   "source": [
    "### View Data\n",
    "Let's generate the ETF and index cumulative returns using `calculate_cumulative_returns` and compare the two."
   ]
  },
  {
   "cell_type": "code",
   "execution_count": null,
   "metadata": {},
   "outputs": [],
   "source": [
    "index_weighted_cumulative_returns = calculate_cumulative_returns(index_weighted_returns)\n",
    "etf_weighted_cumulative_returns = calculate_cumulative_returns(etf_weighted_returns)\n",
    "project_helper.plot_benchmark_returns(index_weighted_cumulative_returns, etf_weighted_cumulative_returns, 'Smart Beta ETF vs Index')"
   ]
  },
  {
   "cell_type": "markdown",
   "metadata": {},
   "source": [
    "## Tracking Error\n",
    "In order to check the performance of the smart beta portfolio, we can calculate the annualized tracking error against the index. Implement `tracking_error` to return the tracking error between the ETF and benchmark.\n",
    "\n",
    "For reference, we'll be using the following annualized tracking error function:\n",
    "$$ TE = \\sqrt{252} * SampleStdev(r_p - r_b) $$\n",
    "\n",
    "Where $ r_p $ is the portfolio/ETF returns and $ r_b $ is the benchmark returns.\n",
    "\n",
    "_Note: When calculating the sample standard deviation, the delta degrees of freedom is 1, which is the also the default value._"
   ]
  },
  {
   "cell_type": "code",
   "execution_count": null,
   "metadata": {},
   "outputs": [],
   "source": [
    "def tracking_error(benchmark_returns_by_date, etf_returns_by_date):\n",
    "    \"\"\"\n",
    "    Calculate the tracking error.\n",
    "\n",
    "    Parameters\n",
    "    ----------\n",
    "    benchmark_returns_by_date : Pandas Series\n",
    "        The benchmark returns for each date\n",
    "    etf_returns_by_date : Pandas Series\n",
    "        The ETF returns for each date\n",
    "\n",
    "    Returns\n",
    "    -------\n",
    "    tracking_error : float\n",
    "        The tracking error\n",
    "    \"\"\"\n",
    "    assert benchmark_returns_by_date.index.equals(etf_returns_by_date.index)\n",
    "    import math\n",
    "    \n",
    "    #TODO: Implement function\n",
    "    # TE = Sqrt(252) * SampleStdev(etf_returns_by_date - benchmark_returns_by_date)\n",
    "    diff = etf_returns_by_date - benchmark_returns_by_date\n",
    "    tracking_error = math.sqrt(252) * diff.std()\n",
    "    return tracking_error\n",
    "\n",
    "    # Use Pandas Dataframe.std() vs np.std(), pandas has ddof=1 as default\n",
    "    #https://pandas.pydata.org/pandas-docs/stable/reference/api/pandas.DataFrame.std.html\n",
    "    #https://knowledge.udacity.com/questions/35697\n",
    "\n",
    "project_tests.test_tracking_error(tracking_error)"
   ]
  },
  {
   "cell_type": "markdown",
   "metadata": {},
   "source": [
    "### View Data\n",
    "Let's generate the tracking error using `tracking_error`."
   ]
  },
  {
   "cell_type": "code",
   "execution_count": null,
   "metadata": {},
   "outputs": [],
   "source": [
    "smart_beta_tracking_error = tracking_error(np.sum(index_weighted_returns, 1), np.sum(etf_weighted_returns, 1))\n",
    "print('Smart Beta Tracking Error: {}'.format(smart_beta_tracking_error))"
   ]
  },
  {
   "cell_type": "markdown",
   "metadata": {},
   "source": [
    "# Part 2: Portfolio Optimization\n",
    "\n",
    "Now, let's create a second portfolio.  We'll still reuse the market cap weighted index, but this will be independent of the dividend-weighted portfolio that we created in part 1.\n",
    "\n",
    "We want to both minimize the portfolio variance and also want to closely track a market cap weighted index.  In other words, we're trying to minimize the distance between the weights of our portfolio and the weights of the index.\n",
    "\n",
    "$Minimize \\left [ \\sigma^2_p + \\lambda \\sqrt{\\sum_{1}^{m}(weight_i - indexWeight_i)^2} \\right  ]$ where $m$ is the number of stocks in the portfolio, and $\\lambda$ is a scaling factor that you can choose.\n",
    "\n",
    "Why are we doing this? One way that investors evaluate a fund is by how well it tracks its index. The fund is still expected to deviate from the index within a certain range in order to improve fund performance.  A way for a fund to track the performance of its benchmark is by keeping its asset weights similar to the weights of the index.  We’d expect that if the fund has the same stocks as the benchmark, and also the same weights for each stock as the benchmark, the fund would yield about the same returns as the benchmark. By minimizing a linear combination of both the portfolio risk and distance between portfolio and benchmark weights, we attempt to balance the desire to minimize portfolio variance with the goal of tracking the index.\n",
    "\n",
    "\n",
    "## Covariance\n",
    "Implement `get_covariance_returns` to calculate the covariance of the `returns`. We'll use this to calculate the portfolio variance.\n",
    "\n",
    "If we have $m$ stock series, the covariance matrix is an $m \\times m$ matrix containing the covariance between each pair of stocks.  We can use [`Numpy.cov`](https://docs.scipy.org/doc/numpy/reference/generated/numpy.cov.html) to get the covariance.  We give it a 2D array in which each row is a stock series, and each column is an observation at the same period of time. For any `NaN` values, you can replace them with zeros using the [`DataFrame.fillna`](https://pandas.pydata.org/pandas-docs/stable/generated/pandas.DataFrame.fillna.html) function.\n",
    "\n",
    "The covariance matrix $\\mathbf{P} = \n",
    "\\begin{bmatrix}\n",
    "\\sigma^2_{1,1} & ... & \\sigma^2_{1,m} \\\\ \n",
    "... & ... & ...\\\\\n",
    "\\sigma_{m,1} & ... & \\sigma^2_{m,m}  \\\\\n",
    "\\end{bmatrix}$"
   ]
  },
  {
   "cell_type": "code",
   "execution_count": null,
   "metadata": {},
   "outputs": [],
   "source": [
    "def get_covariance_returns(returns):\n",
    "    \"\"\"\n",
    "    Calculate covariance matrices.\n",
    "\n",
    "    Parameters\n",
    "    ----------\n",
    "    returns : DataFrame\n",
    "        Returns for each ticker and date\n",
    "\n",
    "    Returns\n",
    "    -------\n",
    "    returns_covariance  : 2 dimensional Ndarray\n",
    "        The covariance of the returns\n",
    "    \"\"\"\n",
    "    #TODO: Implement function\n",
    "    print(returns)\n",
    "    print(np.cov(returns))\n",
    "    df = returns.fillna(0)\n",
    "    df = np.cov(df, rowvar=False)\n",
    "    return df\n",
    "\n",
    "project_tests.test_get_covariance_returns(get_covariance_returns)"
   ]
  },
  {
   "cell_type": "markdown",
   "metadata": {},
   "source": [
    "### View Data\n",
    "Let's look at the covariance generated from `get_covariance_returns`."
   ]
  },
  {
   "cell_type": "code",
   "execution_count": null,
   "metadata": {},
   "outputs": [],
   "source": [
    "covariance_returns = get_covariance_returns(returns)\n",
    "covariance_returns = pd.DataFrame(covariance_returns, returns.columns, returns.columns)\n",
    "\n",
    "covariance_returns_correlation = np.linalg.inv(np.diag(np.sqrt(np.diag(covariance_returns))))\n",
    "covariance_returns_correlation = pd.DataFrame(\n",
    "    covariance_returns_correlation.dot(covariance_returns).dot(covariance_returns_correlation),\n",
    "    covariance_returns.index,\n",
    "    covariance_returns.columns)\n",
    "\n",
    "project_helper.plot_covariance_returns_correlation(\n",
    "    covariance_returns_correlation,\n",
    "    'Covariance Returns Correlation Matrix')"
   ]
  },
  {
   "cell_type": "markdown",
   "metadata": {},
   "source": [
    "### portfolio variance\n",
    "We can write the portfolio variance $\\sigma^2_p = \\mathbf{x^T} \\mathbf{P} \\mathbf{x}$\n",
    "\n",
    "Recall that the $\\mathbf{x^T} \\mathbf{P} \\mathbf{x}$ is called the quadratic form.\n",
    "We can use the cvxpy function `quad_form(x,P)` to get the quadratic form.\n",
    "\n",
    "### Distance from index weights\n",
    "We want portfolio weights that track the index closely.  So we want to minimize the distance between them.\n",
    "Recall from the Pythagorean theorem that you can get the distance between two points in an x,y plane by adding the square of the x and y distances and taking the square root.  Extending this to any number of dimensions is called the L2 norm.  So: $\\sqrt{\\sum_{1}^{n}(weight_i - indexWeight_i)^2}$  Can also be written as $\\left \\| \\mathbf{x} - \\mathbf{index} \\right \\|_2$.  There's a cvxpy function called [norm()](https://www.cvxpy.org/api_reference/cvxpy.atoms.other_atoms.html#norm)\n",
    "`norm(x, p=2, axis=None)`.  The default is already set to find an L2 norm, so you would pass in one argument, which is the difference between your portfolio weights and the index weights.\n",
    "\n",
    "### objective function\n",
    "We want to minimize both the portfolio variance and the distance of the portfolio weights from the index weights.\n",
    "We also want to choose a `scale` constant, which is $\\lambda$ in the expression. \n",
    "\n",
    "$\\mathbf{x^T} \\mathbf{P} \\mathbf{x} + \\lambda \\left \\| \\mathbf{x} - \\mathbf{index} \\right \\|_2$\n",
    "\n",
    "\n",
    "This lets us choose how much priority we give to minimizing the difference from the index, relative to minimizing the variance of the portfolio.  If you choose a higher value for `scale` ($\\lambda$).\n",
    "\n",
    "We can find the objective function using cvxpy `objective = cvx.Minimize()`.  Can you guess what to pass into this function?\n",
    "\n"
   ]
  },
  {
   "cell_type": "markdown",
   "metadata": {},
   "source": [
    "### constraints\n",
    "We can also define our constraints in a list.  For example, you'd want the weights to sum to one. So $\\sum_{1}^{n}x = 1$.  You may also need to go long only, which means no shorting, so no negative weights.  So $x_i >0 $ for all $i$. you could save a variable as `[x >= 0, sum(x) == 1]`, where x was created using `cvx.Variable()`.\n",
    "\n",
    "### optimization\n",
    "So now that we have our objective function and constraints, we can solve for the values of $\\mathbf{x}$.\n",
    "cvxpy has the constructor `Problem(objective, constraints)`, which returns a `Problem` object.\n",
    "\n",
    "The `Problem` object has a function solve(), which returns the minimum of the solution.  In this case, this is the minimum variance of the portfolio.\n",
    "\n",
    "It also updates the vector $\\mathbf{x}$.\n",
    "\n",
    "We can check out the values of $x_A$ and $x_B$ that gave the minimum portfolio variance by using `x.value`"
   ]
  },
  {
   "cell_type": "code",
   "execution_count": 26,
   "metadata": {},
   "outputs": [
    {
     "name": "stdout",
     "output_type": "stream",
     "text": [
      "Tests Passed\n"
     ]
    }
   ],
   "source": [
    "import cvxpy as cvx\n",
    "\n",
    "def get_optimal_weights(covariance_returns, index_weights, scale=2.0):\n",
    "    \"\"\"\n",
    "    Find the optimal weights.\n",
    "\n",
    "    Parameters\n",
    "    ----------\n",
    "    covariance_returns : 2 dimensional Ndarray\n",
    "        The covariance of the returns\n",
    "    index_weights : Pandas Series\n",
    "        Index weights for all tickers at a period in time\n",
    "    scale : int\n",
    "        The penalty factor for weights the deviate from the index \n",
    "    Returns\n",
    "    -------\n",
    "    x : 1 dimensional Ndarray\n",
    "        The solution for x\n",
    "    \"\"\"\n",
    "    assert len(covariance_returns.shape) == 2\n",
    "    assert len(index_weights.shape) == 1\n",
    "    assert covariance_returns.shape[0] == covariance_returns.shape[1]  == index_weights.shape[0]\n",
    "    \n",
    "    #print('covariance_returns\\n', covariance_returns, '\\n')\n",
    "    #print('covariance_returns.shape\\n', covariance_returns.shape, '\\n')\n",
    "    #print('len(covariance_returns.shape)\\n', len(covariance_returns.shape), '\\n')\n",
    "    #print('index_weights\\n', index_weights, '\\n')\n",
    "    #print('index_weights.shape\\n', index_weights.shape, '\\n')\n",
    "    #print('len(index_weights.shape)\\n', len(index_weights.shape), '\\n')\n",
    "\n",
    "    #TODO: Implement function\n",
    "    #get the number of tickers\n",
    "    #import pdb; pdb.set_trace()\n",
    "    \n",
    "    #https://www.youtube.com/watch?v=3t5L1tAROro\n",
    "    \n",
    "    # https://www.cvxpy.org/examples/basic/quadratic_program.html\n",
    "   \n",
    "    # number of entries in index_weights.shape = (3,)\n",
    "    rows = index_weights.shape[0]\n",
    "    weights = cvx.Variable(rows)\n",
    "    \n",
    "    # portfolio variance sigma_p^2 = x^T[covariance matrix P]x\n",
    "    # x = weights, P = covariance_returns\n",
    "    # x coming from ||x-index||sub2\n",
    "    portfolio_variance = cvx.quad_form(weights, covariance_returns)\n",
    "    \n",
    "    #L2 norm being difference between weights and index_weights\n",
    "    norm = cvx.norm((weights - index_weights), p = 2, axis = None)    \n",
    "    \n",
    "    # objective = x^TPx + scale||x-index||sub2\n",
    "    #           -->quad + -->scale * norm\n",
    "    objective = cvx.Minimize(portfolio_variance + scale * norm)\n",
    "    \n",
    "    # constraints given as [x>=0, sum(x)==1] where sum of all weights is 1\n",
    "    constraints = [sum(weights)==1, weights>=0]\n",
    "    \n",
    "    problem = cvx.Problem(objective,constraints)\n",
    "    result = problem.solve()\n",
    "    \n",
    "    return weights.value\n",
    "\n",
    "project_tests.test_get_optimal_weights(get_optimal_weights)"
   ]
  },
  {
   "cell_type": "markdown",
   "metadata": {},
   "source": [
    "## Optimized Portfolio\n",
    "Using the `get_optimal_weights` function, let's generate the optimal ETF weights without rebalanceing. We can do this by feeding in the covariance of the entire history of data. We also need to feed in a set of index weights. We'll go with the average weights of the index over time."
   ]
  },
  {
   "cell_type": "code",
   "execution_count": null,
   "metadata": {},
   "outputs": [],
   "source": [
    "raw_optimal_single_rebalance_etf_weights = get_optimal_weights(covariance_returns.values, index_weights.iloc[-1])\n",
    "optimal_single_rebalance_etf_weights = pd.DataFrame(\n",
    "    np.tile(raw_optimal_single_rebalance_etf_weights, (len(returns.index), 1)),\n",
    "    returns.index,\n",
    "    returns.columns)"
   ]
  },
  {
   "cell_type": "markdown",
   "metadata": {},
   "source": [
    "With our ETF weights built, let's compare it to the index. Run the next cell to calculate the ETF returns and compare it to the index returns."
   ]
  },
  {
   "cell_type": "code",
   "execution_count": null,
   "metadata": {},
   "outputs": [],
   "source": [
    "optim_etf_returns = generate_weighted_returns(returns, optimal_single_rebalance_etf_weights)\n",
    "optim_etf_cumulative_returns = calculate_cumulative_returns(optim_etf_returns)\n",
    "project_helper.plot_benchmark_returns(index_weighted_cumulative_returns, optim_etf_cumulative_returns, 'Optimized ETF vs Index')\n",
    "\n",
    "optim_etf_tracking_error = tracking_error(np.sum(index_weighted_returns, 1), np.sum(optim_etf_returns, 1))\n",
    "print('Optimized ETF Tracking Error: {}'.format(optim_etf_tracking_error))"
   ]
  },
  {
   "cell_type": "markdown",
   "metadata": {},
   "source": [
    "## Rebalance Portfolio Over Time\n",
    "The single optimized ETF portfolio used the same weights for the entire history. This might not be the optimal weights for the entire period. Let's rebalance the portfolio over the same period instead of using the same weights. Implement `rebalance_portfolio` to rebalance a portfolio.\n",
    "\n",
    "Reblance the portfolio every n number of days, which is given as `shift_size`. When rebalancing, you should look back a certain number of days of data in the past, denoted as `chunk_size`. Using this data, compute the optoimal weights using `get_optimal_weights` and `get_covariance_returns`."
   ]
  },
  {
   "cell_type": "code",
   "execution_count": null,
   "metadata": {},
   "outputs": [],
   "source": [
    " def rebalance_portfolio(returns, index_weights, shift_size, chunk_size):\n",
    "    \"\"\"\n",
    "    Get weights for each rebalancing of the portfolio.\n",
    "\n",
    "    Parameters\n",
    "    ----------\n",
    "    returns : DataFrame\n",
    "        Returns for each ticker and date\n",
    "    index_weights : DataFrame\n",
    "        Index weight for each ticker and date\n",
    "    shift_size : int\n",
    "        The number of days between each rebalance\n",
    "    chunk_size : int\n",
    "        The number of days to look in the past for rebalancing\n",
    "\n",
    "    Returns\n",
    "    -------\n",
    "    all_rebalance_weights  : list of Ndarrays\n",
    "        The ETF weights for each point they are rebalanced\n",
    "    \"\"\"\n",
    "    assert returns.index.equals(index_weights.index)\n",
    "    assert returns.columns.equals(index_weights.columns)\n",
    "    assert shift_size > 0\n",
    "    assert chunk_size >= 0\n",
    "\n",
    "    \n",
    "    \n",
    "    #TODO: Implement function\n",
    "    print('returns\\n', returns, '\\n')\n",
    "    print('returns.shape[0]: ', returns.shape[0], '\\n')\n",
    "    #print('index_weights', index_weights, '\\n')\n",
    "    #print('shift_size', shift_size, '\\n')\n",
    "    #print('chunk_size', chunk_size, '\\n')\n",
    "    \n",
    "    \n",
    "    all_rebalance_weights = []\n",
    " \n",
    "    # This for loop answers your questions of which chunck when and how to handle the shift size. \n",
    "    # For information on how range works go to https://pynative.com/python-range-function/\n",
    "    # range (start, stop[, step])\n",
    "    # chunk = 4, returns.shape = 11, shift_size = 2\n",
    "    for i in range(chunk_size, returns.shape[0], shift_size):\n",
    "\n",
    "        # Get current chunck to work on\n",
    "        chunk = returns.iloc[i-chunk_size:i]\n",
    "        print(\"\\nchunk: \", chunk, \"\\n\")\n",
    "\n",
    "        # Get the covariance_returns from the chunck\n",
    "        cov_ret = get_covariance_returns(chunk) \n",
    "\n",
    "        # Get optimal weights based on covariance_returns and the index_weights\n",
    "        print(\"\\ni: \", i)\n",
    "        optimal_weights = get_optimal_weights(cov_ret, index_weights.iloc[i-1])\n",
    "\n",
    "        # Append the results to all_rebalance_weights\n",
    "        all_rebalance_weights.append(optimal_weights)\n",
    "\n",
    "    return all_rebalance_weights\n",
    "\n",
    "\n",
    "\n",
    "\n",
    "\n",
    "    \n",
    "    #for i in range(shift_size):\n",
    "    #lookback_days = chunk_size * -1\n",
    "    #chunksize_returns = returns.iloc[lookback_days:]   \n",
    "    #print('chunksize_returns\\n', chunksize_returns, '\\n')\n",
    "    #covariance_returns = get_covariance_returns(returns)  #chunksize_returns\n",
    "    #print('covariance_returns\\n', covariance_returns, '\\n')\n",
    "    #print('len(cov_ret.shape)', len(covariance_returns.shape), '\\n')\n",
    "    #print('covar_ret.shape', covariance_returns.shape, '\\n')\n",
    "    #print('index_weights.shape', index_weights.shape, '\\n')\n",
    "    \n",
    "    # only need to extract index_weights for the chunk_size days, but that is still not a (3,) shape expected for index_weights, \n",
    "    # or should it be (n,) shape?\n",
    "   \n",
    "    #index_weights_chunk = index_weights.iloc[lookback_days:]\n",
    "    #print('\\nindex_weights_chunk:\\n', index_weights_chunk)\n",
    "    #for index, row in index_weights_chunk.iterrows():\n",
    "    #    #print('\\nloop:covariance_returns', covariance_returns, '\\n')\n",
    "    #    optimal_weights = get_optimal_weights(covariance_returns, row)\n",
    "    #    all_rebalance_weights.append(optimal_weights)\n",
    "    #    print('\\nall_rebalance_weights ', all_rebalance_weights)\n",
    "    #    print('optimal_weights\\n', optimal_weights, '\\n')\n",
    "        \n",
    "    \n",
    "    #all_rebalance_weights = [[0.2, 0.01, 0.4],[0.2, 0.4, 0.001],[0.2, 0.01, 0.001],[0.2, 0.4, 0.001],]\n",
    "                             \n",
    "    #return all_rebalance_weights\n",
    "\n",
    "project_tests.test_rebalance_portfolio(rebalance_portfolio)"
   ]
  },
  {
   "cell_type": "markdown",
   "metadata": {},
   "source": [
    "Run the following cell to rebalance the portfolio using `rebalance_portfolio`."
   ]
  },
  {
   "cell_type": "code",
   "execution_count": null,
   "metadata": {},
   "outputs": [],
   "source": [
    "chunk_size = 250\n",
    "shift_size = 5\n",
    "all_rebalance_weights = rebalance_portfolio(returns, index_weights, shift_size, chunk_size)"
   ]
  },
  {
   "cell_type": "markdown",
   "metadata": {},
   "source": [
    "## Portfolio Turnover\n",
    "With the portfolio rebalanced, we need to use a metric to measure the cost of rebalancing the portfolio. Implement `get_portfolio_turnover` to calculate the annual portfolio turnover. We'll be using the formulas used in the classroom:\n",
    "\n",
    "$ AnnualizedTurnover =\\frac{SumTotalTurnover}{NumberOfRebalanceEvents} * NumberofRebalanceEventsPerYear $\n",
    "\n",
    "$ SumTotalTurnover =\\sum_{t,n}{\\left | x_{t,n} - x_{t+1,n} \\right |} $ Where $ x_{t,n} $ are the weights at time $ t $ for equity $ n $.\n",
    "\n",
    "$ SumTotalTurnover $ is just a different way of writing $ \\sum \\left | x_{t_1,n} - x_{t_2,n} \\right | $"
   ]
  },
  {
   "cell_type": "code",
   "execution_count": null,
   "metadata": {},
   "outputs": [],
   "source": [
    "def get_portfolio_turnover(all_rebalance_weights, shift_size, rebalance_count, n_trading_days_in_year=252):\n",
    "    \"\"\"\n",
    "    Calculage portfolio turnover.\n",
    "\n",
    "    Parameters\n",
    "    ----------\n",
    "    all_rebalance_weights : list of Ndarrays\n",
    "        The ETF weights for each point they are rebalanced\n",
    "    shift_size : int\n",
    "        The number of days between each rebalance\n",
    "    rebalance_count : int\n",
    "        Number of times the portfolio was rebalanced\n",
    "    n_trading_days_in_year: int\n",
    "        Number of trading days in a year\n",
    "\n",
    "    Returns\n",
    "    -------\n",
    "    portfolio_turnover  : float\n",
    "        The portfolio turnover\n",
    "    \"\"\"\n",
    "    assert shift_size > 0\n",
    "    assert rebalance_count > 0\n",
    "    \n",
    "    #TODO: Implement function\n",
    "    #import pdb; pdb.set_trace()\n",
    "    #print(all_rebalance_weights)   \n",
    "        \n",
    "    total = 0\n",
    "    \n",
    "    # AnnualizedTurnover = (SumTotalTurnover/NumberOfRebalanceEvents) * NumberOfRebalanceEventsPerYear\n",
    "    # SumTotalTurnover = Sum of absolute difference between weight of security before and after rebalancing for all securities\n",
    "    # over period T which is the rebalance_count\n",
    "    #https://breakingdownfinance.com/trading-strategies/passive-investing/portfolio-turnover/\n",
    "\n",
    "    # rebalance_count = 2, loop 2 times\n",
    "    for j in range(0, rebalance_count):\n",
    "        # each row in all_rebalance_weights contains weight between one rebalance and the next\n",
    "        wt_diff = np.absolute(all_rebalance_weights[j+1] - all_rebalance_weights[j])\n",
    "        temp_sum = wt_diff.sum()\n",
    "        total = temp_sum + total\n",
    "        numOfRebalanceEventsPerYear = n_trading_days_in_year / shift_size\n",
    "        portfolio_turnover = (total / rebalance_count) * numOfRebalanceEventsPerYear\n",
    "\n",
    "        \n",
    "    #sumTotalTurnover = np.cumsum(all_rebalance_weights - all_rebalance_weights.shift(1))\n",
    "    #sumTotalTurnover = sumTotalTurnover / rebalance_count\n",
    "    #portfolio_turnover = sumTotalTurnover * (n_trading_days_in_year / shift_size)\n",
    "    return portfolio_turnover\n",
    "\n",
    "project_tests.test_get_portfolio_turnover(get_portfolio_turnover)"
   ]
  },
  {
   "cell_type": "markdown",
   "metadata": {},
   "source": [
    "Run the following cell to get the portfolio turnover from  `get_portfolio turnover`."
   ]
  },
  {
   "cell_type": "code",
   "execution_count": null,
   "metadata": {},
   "outputs": [],
   "source": [
    "print(get_portfolio_turnover(all_rebalance_weights, shift_size, len(all_rebalance_weights) - 1))"
   ]
  },
  {
   "cell_type": "markdown",
   "metadata": {},
   "source": [
    "That's it! You've built a smart beta portfolio in part 1 and did portfolio optimization in part 2. You can now submit your project."
   ]
  },
  {
   "cell_type": "markdown",
   "metadata": {},
   "source": [
    "## Submission\n",
    "Now that you're done with the project, it's time to submit it. Click the submit button in the bottom right. One of our reviewers will give you feedback on your project with a pass or not passed grade. You can continue to the next section while you wait for feedback."
   ]
  }
 ],
 "metadata": {
  "kernelspec": {
   "display_name": "Python 3",
   "language": "python",
   "name": "python3"
  },
  "language_info": {
   "codemirror_mode": {
    "name": "ipython",
    "version": 3
   },
   "file_extension": ".py",
   "mimetype": "text/x-python",
   "name": "python",
   "nbconvert_exporter": "python",
   "pygments_lexer": "ipython3",
   "version": "3.6.3"
  }
 },
 "nbformat": 4,
 "nbformat_minor": 2
}
